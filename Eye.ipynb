{
 "cells": [
  {
   "cell_type": "code",
   "execution_count": 1,
   "metadata": {
    "collapsed": true
   },
   "outputs": [],
   "source": [
    "#imports\n",
    "import matplotlib.pyplot as plt\n",
    "import numpy as np\n",
    "\n",
    "from skimage import data\n",
    "from sklearn.neighbors import KNeighborsClassifier\n",
    "from scipy import ndimage\n",
    "from skimage import measure\n",
    "from skimage.exposure import rescale_intensity, equalize_adapthist\n",
    "from skimage.feature import blob_log\n",
    "from skimage.filters import sobel, gaussian, rank, threshold_otsu, frangi, threshold_adaptive, threshold_local, \\\n",
    "    threshold_triangle\n",
    "from skimage.transform import resize\n",
    "from skimage.morphology import disk, opening, square, erosion, black_tophat, white_tophat, closing, binary_closing, \\\n",
    "    remove_small_objects, remove_small_holes"
   ]
  },
  {
   "cell_type": "code",
   "execution_count": 3,
   "metadata": {},
   "outputs": [],
   "source": [
    "imageColor = data.load('C:/Users/Kamil/Documents/GitHub/IwM_eye/resources/Nowy folder/im0255.ppm')\n",
    "# imageColor = data.load('C:/Users/Kamil/Documents/GitHub/IwM_eye/resources/images/08_h.JPG')\n",
    "# manual = data.load('C:/Users/Kamil/Documents/GitHub/IwM_eye/resources/01_h.tif')\n",
    "mask = data.load('C:/Users/Kamil/Documents/GitHub/IwM_eye/resources/Nowy folder/im0255.ah.ppm')"
   ]
  },
  {
   "cell_type": "code",
   "execution_count": 4,
   "metadata": {
    "collapsed": true
   },
   "outputs": [],
   "source": [
    "neigh = KNeighborsClassifier(n_neighbors=5)\n",
    "imageColor = imageColor[:,:,1]\n",
    "\n",
    "y = []\n",
    "X = []\n",
    "for i in range(100, len(imageColor) - 100):\n",
    "    for j in range(100, len(imageColor[0]) - 100):\n",
    "        r= []\n",
    "        for k in imageColor[i - 10:i + 10 , j - 10:j + 10]:\n",
    "            r.extend(k)\n",
    "        X.append(r)\n",
    "        y.append(mask[i][j])"
   ]
  },
  {
   "cell_type": "code",
   "execution_count": 6,
   "metadata": {
    "collapsed": false
   },
   "outputs": [],
   "source": [
    "\n",
    "neigh.fit(X, y)\n",
    "\n",
    "image = data.load('C:/Users/Kamil/Documents/GitHub/IwM_eye/resources/Nowy folder/im0001.ppm')\n",
    "res = np.copy(image)\n",
    "res = res[:,:,1]\n",
    "for i in range(100, len(image) - 200):\n",
    "    for j in range(100, len(image) - 200):\n",
    "        r= []\n",
    "        for k in image[i - 10:i + 10 , j - 10:j + 10,1]:\n",
    "            r.extend(k)\n",
    "        res[i][j] = neigh.predict([r])\n",
    "\n",
    "plt.imshow(res, cmap=\"gray\")\n",
    "plt.show()"
   ]
  },
  {
   "cell_type": "code",
   "execution_count": 14,
   "metadata": {},
   "outputs": [
    {
     "data": {
      "text/plain": [
       "(397800, 100, 3)"
      ]
     },
     "execution_count": 14,
     "metadata": {},
     "output_type": "execute_result"
    }
   ],
   "source": [
    "np.shape(X)"
   ]
  },
  {
   "cell_type": "code",
   "execution_count": null,
   "metadata": {},
   "outputs": [],
   "source": []
  }
 ],
 "metadata": {
  "kernelspec": {
   "display_name": "Python 2",
   "language": "python",
   "name": "python2"
  },
  "language_info": {
   "codemirror_mode": {
    "name": "ipython",
    "version": 2
   },
   "file_extension": ".py",
   "mimetype": "text/x-python",
   "name": "python",
   "nbconvert_exporter": "python",
   "pygments_lexer": "ipython2",
   "version": "2.7.6"
  }
 },
 "nbformat": 4,
 "nbformat_minor": 0
}
